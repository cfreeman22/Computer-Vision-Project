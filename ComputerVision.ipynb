{
  "nbformat": 4,
  "nbformat_minor": 0,
  "metadata": {
    "colab": {
      "name": "ComputerVision.ipynb",
      "provenance": [],
      "authorship_tag": "ABX9TyPsT31n7oY6LofmGTK+fYlS",
      "include_colab_link": true
    },
    "kernelspec": {
      "name": "python3",
      "display_name": "Python 3"
    },
    "language_info": {
      "name": "python"
    }
  },
  "cells": [
    {
      "cell_type": "markdown",
      "metadata": {
        "id": "view-in-github",
        "colab_type": "text"
      },
      "source": [
        "<a href=\"https://colab.research.google.com/github/cfreeman22/Computer-Vision-Project/blob/main/ComputerVision.ipynb\" target=\"_parent\"><img src=\"https://colab.research.google.com/assets/colab-badge.svg\" alt=\"Open In Colab\"/></a>"
      ]
    },
    {
      "cell_type": "code",
      "execution_count": null,
      "metadata": {
        "id": "NbC3dbnRrFpM"
      },
      "outputs": [],
      "source": [
        ""
      ]
    },
    {
      "cell_type": "markdown",
      "source": [
        "# Load dataset and Summary"
      ],
      "metadata": {
        "id": "IT0mDlVcrV7n"
      }
    },
    {
      "cell_type": "markdown",
      "source": [
        "### Mount the drive"
      ],
      "metadata": {
        "id": "13dI0kRVyEy5"
      }
    },
    {
      "cell_type": "code",
      "source": [
        "from google.colab import drive\n",
        "drive.mount('/content/drive')"
      ],
      "metadata": {
        "colab": {
          "base_uri": "https://localhost:8080/"
        },
        "id": "2-EZFxZarZAu",
        "outputId": "3977b1a7-17ac-4cd8-cda6-6132478bbda4"
      },
      "execution_count": 1,
      "outputs": [
        {
          "output_type": "stream",
          "name": "stdout",
          "text": [
            "Mounted at /content/drive\n"
          ]
        }
      ]
    },
    {
      "cell_type": "markdown",
      "source": [
        "### Importing the libraries"
      ],
      "metadata": {
        "id": "rP0Hm1kWyNqi"
      }
    },
    {
      "cell_type": "code",
      "source": [
        "#Reading the training images from the path and labelling them into the given categories\n",
        "import numpy as np\n",
        "import pandas as pd\n",
        "import matplotlib.pyplot as plt\n",
        "import cv2 # this is an important module to get imported which may even cause issues while reading the data if not used\n",
        "import seaborn as sns # for data visualization \n",
        "import tensorflow as tf\n",
        "import keras\n",
        "import os\n",
        "from tensorflow.keras.models import Sequential #sequential api for sequential model \n",
        "from tensorflow.keras.layers import Dense, Dropout, Flatten #importing different layers \n",
        "from tensorflow.keras.layers import Conv2D, MaxPooling2D, BatchNormalization, Activation, Input, LeakyReLU,Activation\n",
        "from tensorflow.keras import backend \n",
        "from tensorflow.keras.utils import to_categorical #to perform one-hot encoding \n",
        "from tensorflow.keras.layers import Dense, Dropout, Flatten, Conv2D, MaxPool2D\n",
        "from tensorflow.keras.optimizers import RMSprop,Adam,SGD #optimiers for optimizing the model\n",
        "from tensorflow.keras.callbacks import EarlyStopping  #regularization method to prevent the overfitting\n",
        "from tensorflow.keras.callbacks import ModelCheckpoint\n",
        "from tensorflow.keras.models import Sequential, Model\n",
        "from tensorflow.keras import losses, optimizers\n",
        "# Importing all the required sub-modules from Keras\n",
        "from keras.applications.vgg16 import VGG16\n",
        "from keras.preprocessing.image import ImageDataGenerator\n",
        "from keras.preprocessing.image import img_to_array, load_img"
      ],
      "metadata": {
        "id": "htFx821wyJkZ"
      },
      "execution_count": 2,
      "outputs": []
    },
    {
      "cell_type": "code",
      "source": [
        "raw_data=pd.read_csv('/content/drive/My Drive/Labels.csv')"
      ],
      "metadata": {
        "id": "HyaU6UKWy6pW"
      },
      "execution_count": 4,
      "outputs": []
    },
    {
      "cell_type": "code",
      "source": [
        "raw_data.head()"
      ],
      "metadata": {
        "colab": {
          "base_uri": "https://localhost:8080/",
          "height": 206
        },
        "id": "A9MsU6zL0qvu",
        "outputId": "2429f02b-53ad-448c-d401-d11ea033d3f4"
      },
      "execution_count": 5,
      "outputs": [
        {
          "output_type": "execute_result",
          "data": {
            "text/plain": [
              "                       Label\n",
              "0  Small-flowered Cranesbill\n",
              "1  Small-flowered Cranesbill\n",
              "2  Small-flowered Cranesbill\n",
              "3  Small-flowered Cranesbill\n",
              "4  Small-flowered Cranesbill"
            ],
            "text/html": [
              "\n",
              "  <div id=\"df-cab0fd04-a18d-42ea-a88c-a664f375a294\">\n",
              "    <div class=\"colab-df-container\">\n",
              "      <div>\n",
              "<style scoped>\n",
              "    .dataframe tbody tr th:only-of-type {\n",
              "        vertical-align: middle;\n",
              "    }\n",
              "\n",
              "    .dataframe tbody tr th {\n",
              "        vertical-align: top;\n",
              "    }\n",
              "\n",
              "    .dataframe thead th {\n",
              "        text-align: right;\n",
              "    }\n",
              "</style>\n",
              "<table border=\"1\" class=\"dataframe\">\n",
              "  <thead>\n",
              "    <tr style=\"text-align: right;\">\n",
              "      <th></th>\n",
              "      <th>Label</th>\n",
              "    </tr>\n",
              "  </thead>\n",
              "  <tbody>\n",
              "    <tr>\n",
              "      <th>0</th>\n",
              "      <td>Small-flowered Cranesbill</td>\n",
              "    </tr>\n",
              "    <tr>\n",
              "      <th>1</th>\n",
              "      <td>Small-flowered Cranesbill</td>\n",
              "    </tr>\n",
              "    <tr>\n",
              "      <th>2</th>\n",
              "      <td>Small-flowered Cranesbill</td>\n",
              "    </tr>\n",
              "    <tr>\n",
              "      <th>3</th>\n",
              "      <td>Small-flowered Cranesbill</td>\n",
              "    </tr>\n",
              "    <tr>\n",
              "      <th>4</th>\n",
              "      <td>Small-flowered Cranesbill</td>\n",
              "    </tr>\n",
              "  </tbody>\n",
              "</table>\n",
              "</div>\n",
              "      <button class=\"colab-df-convert\" onclick=\"convertToInteractive('df-cab0fd04-a18d-42ea-a88c-a664f375a294')\"\n",
              "              title=\"Convert this dataframe to an interactive table.\"\n",
              "              style=\"display:none;\">\n",
              "        \n",
              "  <svg xmlns=\"http://www.w3.org/2000/svg\" height=\"24px\"viewBox=\"0 0 24 24\"\n",
              "       width=\"24px\">\n",
              "    <path d=\"M0 0h24v24H0V0z\" fill=\"none\"/>\n",
              "    <path d=\"M18.56 5.44l.94 2.06.94-2.06 2.06-.94-2.06-.94-.94-2.06-.94 2.06-2.06.94zm-11 1L8.5 8.5l.94-2.06 2.06-.94-2.06-.94L8.5 2.5l-.94 2.06-2.06.94zm10 10l.94 2.06.94-2.06 2.06-.94-2.06-.94-.94-2.06-.94 2.06-2.06.94z\"/><path d=\"M17.41 7.96l-1.37-1.37c-.4-.4-.92-.59-1.43-.59-.52 0-1.04.2-1.43.59L10.3 9.45l-7.72 7.72c-.78.78-.78 2.05 0 2.83L4 21.41c.39.39.9.59 1.41.59.51 0 1.02-.2 1.41-.59l7.78-7.78 2.81-2.81c.8-.78.8-2.07 0-2.86zM5.41 20L4 18.59l7.72-7.72 1.47 1.35L5.41 20z\"/>\n",
              "  </svg>\n",
              "      </button>\n",
              "      \n",
              "  <style>\n",
              "    .colab-df-container {\n",
              "      display:flex;\n",
              "      flex-wrap:wrap;\n",
              "      gap: 12px;\n",
              "    }\n",
              "\n",
              "    .colab-df-convert {\n",
              "      background-color: #E8F0FE;\n",
              "      border: none;\n",
              "      border-radius: 50%;\n",
              "      cursor: pointer;\n",
              "      display: none;\n",
              "      fill: #1967D2;\n",
              "      height: 32px;\n",
              "      padding: 0 0 0 0;\n",
              "      width: 32px;\n",
              "    }\n",
              "\n",
              "    .colab-df-convert:hover {\n",
              "      background-color: #E2EBFA;\n",
              "      box-shadow: 0px 1px 2px rgba(60, 64, 67, 0.3), 0px 1px 3px 1px rgba(60, 64, 67, 0.15);\n",
              "      fill: #174EA6;\n",
              "    }\n",
              "\n",
              "    [theme=dark] .colab-df-convert {\n",
              "      background-color: #3B4455;\n",
              "      fill: #D2E3FC;\n",
              "    }\n",
              "\n",
              "    [theme=dark] .colab-df-convert:hover {\n",
              "      background-color: #434B5C;\n",
              "      box-shadow: 0px 1px 3px 1px rgba(0, 0, 0, 0.15);\n",
              "      filter: drop-shadow(0px 1px 2px rgba(0, 0, 0, 0.3));\n",
              "      fill: #FFFFFF;\n",
              "    }\n",
              "  </style>\n",
              "\n",
              "      <script>\n",
              "        const buttonEl =\n",
              "          document.querySelector('#df-cab0fd04-a18d-42ea-a88c-a664f375a294 button.colab-df-convert');\n",
              "        buttonEl.style.display =\n",
              "          google.colab.kernel.accessAllowed ? 'block' : 'none';\n",
              "\n",
              "        async function convertToInteractive(key) {\n",
              "          const element = document.querySelector('#df-cab0fd04-a18d-42ea-a88c-a664f375a294');\n",
              "          const dataTable =\n",
              "            await google.colab.kernel.invokeFunction('convertToInteractive',\n",
              "                                                     [key], {});\n",
              "          if (!dataTable) return;\n",
              "\n",
              "          const docLinkHtml = 'Like what you see? Visit the ' +\n",
              "            '<a target=\"_blank\" href=https://colab.research.google.com/notebooks/data_table.ipynb>data table notebook</a>'\n",
              "            + ' to learn more about interactive tables.';\n",
              "          element.innerHTML = '';\n",
              "          dataTable['output_type'] = 'display_data';\n",
              "          await google.colab.output.renderOutput(dataTable, element);\n",
              "          const docLink = document.createElement('div');\n",
              "          docLink.innerHTML = docLinkHtml;\n",
              "          element.appendChild(docLink);\n",
              "        }\n",
              "      </script>\n",
              "    </div>\n",
              "  </div>\n",
              "  "
            ]
          },
          "metadata": {},
          "execution_count": 5
        }
      ]
    },
    {
      "cell_type": "code",
      "source": [
        "images =np.load('/content/drive/My Drive/images.npy')"
      ],
      "metadata": {
        "id": "GiZoKfNc1erm"
      },
      "execution_count": 7,
      "outputs": []
    },
    {
      "cell_type": "code",
      "source": [
        "images"
      ],
      "metadata": {
        "colab": {
          "base_uri": "https://localhost:8080/"
        },
        "id": "6xfSU2nu1eoI",
        "outputId": "c9c28ad6-0a52-4027-c413-0aecb0f517e1"
      },
      "execution_count": 9,
      "outputs": [
        {
          "output_type": "execute_result",
          "data": {
            "text/plain": [
              "array([[[[ 35,  52,  78],\n",
              "         [ 36,  49,  76],\n",
              "         [ 31,  45,  69],\n",
              "         ...,\n",
              "         [ 78,  95, 114],\n",
              "         [ 76,  93, 110],\n",
              "         [ 80,  95, 109]],\n",
              "\n",
              "        [[ 33,  46,  68],\n",
              "         [ 37,  50,  73],\n",
              "         [ 48,  65,  83],\n",
              "         ...,\n",
              "         [ 81,  96, 113],\n",
              "         [ 74,  89, 105],\n",
              "         [ 83,  95, 109]],\n",
              "\n",
              "        [[ 34,  50,  68],\n",
              "         [ 35,  52,  72],\n",
              "         [ 70,  85, 101],\n",
              "         ...,\n",
              "         [ 83,  97, 112],\n",
              "         [ 79,  94, 108],\n",
              "         [ 79,  94, 107]],\n",
              "\n",
              "        ...,\n",
              "\n",
              "        [[ 35,  50,  69],\n",
              "         [ 42,  57,  73],\n",
              "         [ 42,  57,  72],\n",
              "         ...,\n",
              "         [ 60,  76,  92],\n",
              "         [ 67,  81,  97],\n",
              "         [ 64,  77,  95]],\n",
              "\n",
              "        [[ 36,  52,  67],\n",
              "         [ 48,  63,  78],\n",
              "         [ 41,  57,  73],\n",
              "         ...,\n",
              "         [ 44,  66,  83],\n",
              "         [ 58,  76,  91],\n",
              "         [ 57,  74,  90]],\n",
              "\n",
              "        [[ 44,  58,  70],\n",
              "         [ 43,  57,  73],\n",
              "         [ 40,  55,  72],\n",
              "         ...,\n",
              "         [ 41,  70,  92],\n",
              "         [ 55,  78,  97],\n",
              "         [ 61,  79,  96]]],\n",
              "\n",
              "\n",
              "       [[[ 30,  47,  63],\n",
              "         [ 30,  50,  60],\n",
              "         [ 34,  47,  63],\n",
              "         ...,\n",
              "         [ 48,  59,  74],\n",
              "         [ 42,  54,  69],\n",
              "         [ 44,  56,  70]],\n",
              "\n",
              "        [[ 30,  49,  67],\n",
              "         [ 26,  47,  60],\n",
              "         [ 30,  40,  61],\n",
              "         ...,\n",
              "         [ 50,  64,  76],\n",
              "         [ 52,  67,  78],\n",
              "         [ 45,  56,  72]],\n",
              "\n",
              "        [[ 23,  46,  65],\n",
              "         [ 27,  48,  64],\n",
              "         [ 25,  40,  59],\n",
              "         ...,\n",
              "         [ 39,  59,  81],\n",
              "         [ 47,  62,  79],\n",
              "         [ 42,  54,  69]],\n",
              "\n",
              "        ...,\n",
              "\n",
              "        [[ 32,  54,  72],\n",
              "         [ 58,  82,  95],\n",
              "         [ 72,  96, 109],\n",
              "         ...,\n",
              "         [ 60,  80,  99],\n",
              "         [ 50,  72,  92],\n",
              "         [ 45,  64,  84]],\n",
              "\n",
              "        [[ 31,  51,  67],\n",
              "         [ 25,  50,  64],\n",
              "         [ 38,  64,  80],\n",
              "         ...,\n",
              "         [ 63,  83, 101],\n",
              "         [ 57,  78,  96],\n",
              "         [ 50,  69,  89]],\n",
              "\n",
              "        [[ 18,  32,  56],\n",
              "         [ 16,  27,  50],\n",
              "         [ 34,  49,  71],\n",
              "         ...,\n",
              "         [ 59,  84, 101],\n",
              "         [ 55,  80,  97],\n",
              "         [ 39,  59,  82]]],\n",
              "\n",
              "\n",
              "       [[[154, 149, 144],\n",
              "         [162, 156, 152],\n",
              "         [161, 154, 151],\n",
              "         ...,\n",
              "         [175, 180, 183],\n",
              "         [177, 181, 184],\n",
              "         [175, 179, 179]],\n",
              "\n",
              "        [[154, 150, 147],\n",
              "         [162, 156, 154],\n",
              "         [154, 147, 145],\n",
              "         ...,\n",
              "         [168, 173, 180],\n",
              "         [171, 175, 181],\n",
              "         [173, 176, 180]],\n",
              "\n",
              "        [[151, 149, 149],\n",
              "         [159, 155, 156],\n",
              "         [158, 154, 152],\n",
              "         ...,\n",
              "         [173, 176, 180],\n",
              "         [178, 182, 186],\n",
              "         [179, 182, 185]],\n",
              "\n",
              "        ...,\n",
              "\n",
              "        [[ 58,  72,  96],\n",
              "         [ 69,  83, 105],\n",
              "         [ 69,  84, 104],\n",
              "         ...,\n",
              "         [175, 170, 167],\n",
              "         [176, 169, 167],\n",
              "         [176, 167, 165]],\n",
              "\n",
              "        [[ 64,  76,  98],\n",
              "         [ 77,  87, 108],\n",
              "         [ 79,  91, 109],\n",
              "         ...,\n",
              "         [177, 172, 170],\n",
              "         [179, 173, 171],\n",
              "         [176, 169, 166]],\n",
              "\n",
              "        [[ 68,  80,  99],\n",
              "         [ 78,  89, 108],\n",
              "         [ 79,  92, 108],\n",
              "         ...,\n",
              "         [179, 173, 170],\n",
              "         [177, 171, 166],\n",
              "         [178, 171, 167]]],\n",
              "\n",
              "\n",
              "       ...,\n",
              "\n",
              "\n",
              "       [[[163, 165, 170],\n",
              "         [ 55,  56,  67],\n",
              "         [ 58,  56,  60],\n",
              "         ...,\n",
              "         [ 46,  47,  58],\n",
              "         [ 49,  51,  60],\n",
              "         [ 53,  54,  64]],\n",
              "\n",
              "        [[101,  94, 120],\n",
              "         [ 60,  58,  68],\n",
              "         [ 57,  58,  62],\n",
              "         ...,\n",
              "         [ 47,  48,  58],\n",
              "         [ 55,  57,  65],\n",
              "         [ 50,  54,  64]],\n",
              "\n",
              "        [[ 64,  56,  76],\n",
              "         [ 64,  60,  67],\n",
              "         [ 54,  50,  55],\n",
              "         ...,\n",
              "         [ 47,  50,  60],\n",
              "         [ 48,  51,  62],\n",
              "         [ 45,  49,  60]],\n",
              "\n",
              "        ...,\n",
              "\n",
              "        [[ 30,  43,  64],\n",
              "         [ 43,  60,  86],\n",
              "         [ 82, 102, 125],\n",
              "         ...,\n",
              "         [ 42,  58,  76],\n",
              "         [ 44,  59,  79],\n",
              "         [ 48,  64,  81]],\n",
              "\n",
              "        [[ 36,  47,  62],\n",
              "         [ 27,  41,  64],\n",
              "         [ 42,  59,  89],\n",
              "         ...,\n",
              "         [ 42,  60,  76],\n",
              "         [ 41,  59,  77],\n",
              "         [ 42,  60,  76]],\n",
              "\n",
              "        [[ 30,  41,  57],\n",
              "         [ 26,  40,  59],\n",
              "         [ 30,  45,  68],\n",
              "         ...,\n",
              "         [ 41,  59,  74],\n",
              "         [ 39,  60,  73],\n",
              "         [ 40,  57,  74]]],\n",
              "\n",
              "\n",
              "       [[[116, 142, 153],\n",
              "         [107, 137, 152],\n",
              "         [110, 141, 154],\n",
              "         ...,\n",
              "         [ 50,  74,  92],\n",
              "         [ 55,  78,  96],\n",
              "         [ 49,  70,  91]],\n",
              "\n",
              "        [[101, 128, 138],\n",
              "         [ 95, 128, 145],\n",
              "         [115, 145, 154],\n",
              "         ...,\n",
              "         [ 46,  69,  86],\n",
              "         [ 47,  70,  91],\n",
              "         [ 48,  71,  90]],\n",
              "\n",
              "        [[ 47,  61,  78],\n",
              "         [ 77, 100, 117],\n",
              "         [101, 132, 140],\n",
              "         ...,\n",
              "         [ 25,  36,  67],\n",
              "         [ 40,  61,  87],\n",
              "         [ 44,  71,  89]],\n",
              "\n",
              "        ...,\n",
              "\n",
              "        [[ 42,  58,  79],\n",
              "         [ 44,  57,  77],\n",
              "         [ 39,  54,  72],\n",
              "         ...,\n",
              "         [ 54,  71,  93],\n",
              "         [ 54,  74,  90],\n",
              "         [ 41,  56,  73]],\n",
              "\n",
              "        [[ 38,  63,  92],\n",
              "         [ 34,  60,  87],\n",
              "         [ 40,  62,  81],\n",
              "         ...,\n",
              "         [ 59,  75,  94],\n",
              "         [ 50,  70,  88],\n",
              "         [ 40,  57,  73]],\n",
              "\n",
              "        [[ 33,  61,  93],\n",
              "         [ 33,  62,  95],\n",
              "         [ 42,  70,  94],\n",
              "         ...,\n",
              "         [ 52,  67,  89],\n",
              "         [ 49,  67,  87],\n",
              "         [ 34,  51,  71]]],\n",
              "\n",
              "\n",
              "       [[[ 53,  66,  84],\n",
              "         [ 45,  56,  74],\n",
              "         [ 52,  67,  86],\n",
              "         ...,\n",
              "         [ 50,  71,  95],\n",
              "         [ 83, 106, 124],\n",
              "         [ 65,  86, 113]],\n",
              "\n",
              "        [[ 54,  68,  87],\n",
              "         [ 38,  48,  63],\n",
              "         [ 29,  44,  67],\n",
              "         ...,\n",
              "         [ 63,  85, 105],\n",
              "         [ 64,  89, 112],\n",
              "         [ 71,  95, 115]],\n",
              "\n",
              "        [[ 49,  63,  80],\n",
              "         [ 60,  80, 104],\n",
              "         [ 78, 107, 127],\n",
              "         ...,\n",
              "         [ 41,  70,  73],\n",
              "         [ 42,  77,  80],\n",
              "         [ 57,  83,  95]],\n",
              "\n",
              "        ...,\n",
              "\n",
              "        [[ 50,  65,  79],\n",
              "         [ 50,  65,  84],\n",
              "         [ 55,  74,  94],\n",
              "         ...,\n",
              "         [ 28,  52,  79],\n",
              "         [ 31,  50,  74],\n",
              "         [ 32,  51,  72]],\n",
              "\n",
              "        [[ 59,  75,  89],\n",
              "         [ 57,  74,  91],\n",
              "         [ 57,  79,  96],\n",
              "         ...,\n",
              "         [ 34,  56,  79],\n",
              "         [ 71,  90, 102],\n",
              "         [ 72,  89, 104]],\n",
              "\n",
              "        [[ 68,  85, 103],\n",
              "         [ 66,  80,  96],\n",
              "         [ 67,  86, 100],\n",
              "         ...,\n",
              "         [ 70,  87, 101],\n",
              "         [ 68,  82,  95],\n",
              "         [ 68,  84, 101]]]], dtype=uint8)"
            ]
          },
          "metadata": {},
          "execution_count": 9
        }
      ]
    },
    {
      "cell_type": "markdown",
      "source": [
        "# Exploratory Data Analysis on the images"
      ],
      "metadata": {
        "id": "_RP0W0tTrZke"
      }
    },
    {
      "cell_type": "code",
      "source": [
        ""
      ],
      "metadata": {
        "id": "Yj7ZygcnrfTb"
      },
      "execution_count": null,
      "outputs": []
    },
    {
      "cell_type": "markdown",
      "source": [
        "## insights based on EDA"
      ],
      "metadata": {
        "id": "hnNYOB_1rmG8"
      }
    },
    {
      "cell_type": "code",
      "source": [
        ""
      ],
      "metadata": {
        "id": "D4H7DEYNrn8c"
      },
      "execution_count": null,
      "outputs": []
    },
    {
      "cell_type": "markdown",
      "source": [
        "# Data Pre - Processing"
      ],
      "metadata": {
        "id": "AyxrvRprrqVE"
      }
    },
    {
      "cell_type": "code",
      "source": [
        ""
      ],
      "metadata": {
        "id": "9wVv3uH-rrte"
      },
      "execution_count": null,
      "outputs": []
    },
    {
      "cell_type": "markdown",
      "source": [
        "# Make data compatible"
      ],
      "metadata": {
        "id": "-Pm44OWgru_Q"
      }
    },
    {
      "cell_type": "code",
      "source": [
        ""
      ],
      "metadata": {
        "id": "e7wJhELOrwrV"
      },
      "execution_count": null,
      "outputs": []
    },
    {
      "cell_type": "markdown",
      "source": [
        "# Model building"
      ],
      "metadata": {
        "id": "kK63u54xr0fu"
      }
    },
    {
      "cell_type": "code",
      "source": [
        ""
      ],
      "metadata": {
        "id": "p3-WyqNkr19H"
      },
      "execution_count": null,
      "outputs": []
    },
    {
      "cell_type": "markdown",
      "source": [
        "## Model Performance Improvement"
      ],
      "metadata": {
        "id": "yAEefeEGr6B-"
      }
    },
    {
      "cell_type": "code",
      "source": [
        ""
      ],
      "metadata": {
        "id": "BHySm9PFr7oG"
      },
      "execution_count": null,
      "outputs": []
    },
    {
      "cell_type": "markdown",
      "source": [
        "## Model Performance Evaluation"
      ],
      "metadata": {
        "id": "SwqDa2l0r-rp"
      }
    },
    {
      "cell_type": "code",
      "source": [
        ""
      ],
      "metadata": {
        "id": "BeDw-NwHsARm"
      },
      "execution_count": null,
      "outputs": []
    },
    {
      "cell_type": "markdown",
      "source": [
        "# Conclusion and key takeaways"
      ],
      "metadata": {
        "id": "nNvxrFg3sFCx"
      }
    },
    {
      "cell_type": "code",
      "source": [
        ""
      ],
      "metadata": {
        "id": "M7QtngcvsGv1"
      },
      "execution_count": null,
      "outputs": []
    }
  ]
}